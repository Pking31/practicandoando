{
  "nbformat": 4,
  "nbformat_minor": 0,
  "metadata": {
    "colab": {
      "provenance": [],
      "authorship_tag": "ABX9TyPZmwMANUplqGV/jyg6cLdI",
      "include_colab_link": true
    },
    "kernelspec": {
      "name": "python3",
      "display_name": "Python 3"
    },
    "language_info": {
      "name": "python"
    }
  },
  "cells": [
    {
      "cell_type": "markdown",
      "metadata": {
        "id": "view-in-github",
        "colab_type": "text"
      },
      "source": [
        "<a href=\"https://colab.research.google.com/github/Pking31/practicandoando/blob/main/acronym.ipynb\" target=\"_parent\"><img src=\"https://colab.research.google.com/assets/colab-badge.svg\" alt=\"Open In Colab\"/></a>"
      ]
    },
    {
      "cell_type": "markdown",
      "source": [
        "what is the acronym? given a text the program returns the first character of each word."
      ],
      "metadata": {
        "id": "i6L84YvBDdnh"
      }
    },
    {
      "cell_type": "code",
      "source": [
        "def acro(s):\n",
        "  v=s.split()\n",
        "\n",
        "  for i in range(len(v)):\n",
        "    v[i]=v[i][0] \n",
        "    strings = [x.upper() for x in v]\n",
        "    result=\"\".join(strings)\n",
        "  return result\n"
      ],
      "metadata": {
        "id": "ZbG1FXpCDlZ3"
      },
      "execution_count": 70,
      "outputs": []
    },
    {
      "cell_type": "code",
      "source": [
        "v=\"quiereme verde que te quiero rojo\"\n",
        "print(\"el acrónimo es \"+acro(v))\n"
      ],
      "metadata": {
        "colab": {
          "base_uri": "https://localhost:8080/"
        },
        "id": "KQOUv8r9Htmw",
        "outputId": "f870ea26-2dbb-41e5-8e36-dfb43a452369"
      },
      "execution_count": 74,
      "outputs": [
        {
          "output_type": "stream",
          "name": "stdout",
          "text": [
            "el acrónimo es QVQTQR\n"
          ]
        }
      ]
    }
  ]
}