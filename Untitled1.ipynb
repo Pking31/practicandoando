{
  "nbformat": 4,
  "nbformat_minor": 0,
  "metadata": {
    "colab": {
      "provenance": [],
      "authorship_tag": "ABX9TyNIOC7D86xUNyiYzF+ja2Dv",
      "include_colab_link": true
    },
    "kernelspec": {
      "name": "python3",
      "display_name": "Python 3"
    },
    "language_info": {
      "name": "python"
    }
  },
  "cells": [
    {
      "cell_type": "markdown",
      "metadata": {
        "id": "view-in-github",
        "colab_type": "text"
      },
      "source": [
        "<a href=\"https://colab.research.google.com/github/Pking31/practicandoando/blob/main/Untitled1.ipynb\" target=\"_parent\"><img src=\"https://colab.research.google.com/assets/colab-badge.svg\" alt=\"Open In Colab\"/></a>"
      ]
    },
    {
      "cell_type": "code",
      "execution_count": null,
      "metadata": {
        "id": "6sUVXUPyvduV"
      },
      "outputs": [],
      "source": [
        "import pandas as pd"
      ]
    },
    {
      "cell_type": "markdown",
      "source": [
        "**is odd or even?**\n",
        "im going to define a function that returns \"It's even\" for some even number and \"It's 0dd\" for a odd number"
      ],
      "metadata": {
        "id": "I_R8sSLCeIGp"
      }
    },
    {
      "cell_type": "code",
      "source": [
        "def EvenorOdd(a):\n",
        "  if type(a/2)==\"int\":\n",
        "    return \"It's even\"\n",
        "  else:\n",
        "    return \"It's odd\"\n"
      ],
      "metadata": {
        "id": "n-oIP6F0Ul7m"
      },
      "execution_count": null,
      "outputs": []
    },
    {
      "cell_type": "code",
      "source": [
        "a=input(\"Enter the number\\n\")\n",
        "b=int(a)\n",
        "EvenorOdd(b)"
      ],
      "metadata": {
        "colab": {
          "base_uri": "https://localhost:8080/",
          "height": 70
        },
        "id": "YY3hNttvcIlR",
        "outputId": "30ae9440-e162-4281-f2b0-f20370f9283f"
      },
      "execution_count": null,
      "outputs": [
        {
          "name": "stdout",
          "output_type": "stream",
          "text": [
            "Enter the number\n",
            "88\n"
          ]
        },
        {
          "output_type": "execute_result",
          "data": {
            "text/plain": [
              "\"It's odd\""
            ],
            "application/vnd.google.colaboratory.intrinsic+json": {
              "type": "string"
            }
          },
          "metadata": {},
          "execution_count": 25
        }
      ]
    }
  ]
}